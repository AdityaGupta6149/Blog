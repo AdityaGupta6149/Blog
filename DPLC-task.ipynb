{
 "cells": [
  {
   "cell_type": "code",
   "execution_count": null,
   "metadata": {},
   "outputs": [],
   "source": [
    "# Code for real task (Read from prod write to staging)\n",
    "\n",
    "from kartothek.io.dask.dataframe import read_dataset_as_ddf, update_dataset_from_ddf\n",
    "from storefact import get_store_from_url\n",
    "from kartothek.io.eager import read_table\n",
    "from functools import partial\n",
    "from kartothek.core.dataset import DatasetMetadata\n",
    "\n",
    "dataset_uuid_stag = \"mor_staging_dask_dplc_data_002\"\n",
    "dataset_uuid_prod = \"mor_prod_dplc_data_003\"\n",
    "\n",
    "store_url_prod = \"hazure://nckqjylgla4qm:se%3D2020-11-30T00%253A00%253A00Z%26sp%3Drl%26sv%3D2019-02-02%26sr%3Dc%26sig%3DTXsi2eekoiIGAhLn1AqknBJHjSJLKwzPQCu%2FOUHa854%253D@mor-prod-demand-predictions-lastcalcs?use_sas=true&create_if_missing=false\"\n",
    "store_url_stag = \"hazure://nckqjylgla4qm:se%3D2020-11-30T00%253A00%253A00Z%26sp%3Drl%26sv%3D2019-02-02%26sr%3Dc%26sig%3DYn90Kf9mkwNVecSV7kzfv7Pbc0nfnAprfrkVd59pXpY%253D@mor-staging-dask-demand-predictions-lastcalcs?use_sas=true&create_if_missing=false\"\n",
    "\n",
    "store_prod = partial(get_store_from_url, store_url_prod)\n",
    "store_stag = partial(get_store_from_url, store_url_stag)\n",
    "\n",
    "table = \"predictions\"\n",
    "\n",
    "print(DatasetMetadata.load_from_store(dataset_uuid_prod, store_prod()))\n",
    "#print(DatasetMetadata.load_from_store(dataset_uuid_stag, store_stag()))\n",
    "\n",
    "# read prod\n",
    "ddf = read_dataset_as_ddf(dataset_uuid_prod,\n",
    "                        store_prod, table)\n",
    "\n",
    "dff.head()\n",
    "\n",
    "\n",
    "# write to staging\n",
    "graph = update_dataset_from_ddf(ddf, store_stag,\n",
    "                         dataset_uuid_stag, table) \n",
    "graph.compute()"
   ]
  },
  {
   "cell_type": "code",
   "execution_count": null,
   "metadata": {},
   "outputs": [],
   "source": [
    "# Code for experimentation (Read from staging write to prod)\n",
    "\n",
    "from kartothek.io.dask.dataframe import read_dataset_as_ddf, update_dataset_from_ddf\n",
    "from storefact import get_store_from_url\n",
    "from kartothek.io.eager import read_table\n",
    "from functools import partial\n",
    "from kartothek.core.dataset import DatasetMetadata\n",
    "\n",
    "dataset_uuid_stag = \"mor_staging_dask_dplc_data_002\"\n",
    "dataset_uuid_prod = \"mor_prod_dplc_data_003\"\n",
    "\n",
    "store_url_prod = \"hazure://nckqjylgla4qm:se%3D2020-11-30T00%253A00%253A00Z%26sp%3Drl%26sv%3D2019-02-02%26sr%3Dc%26sig%3DTXsi2eekoiIGAhLn1AqknBJHjSJLKwzPQCu%2FOUHa854%253D@mor-prod-demand-predictions-lastcalcs?use_sas=true&create_if_missing=false\"\n",
    "store_url_stag = \"hazure://nckqjylgla4qm:se%3D2020-11-30T00%253A00%253A00Z%26sp%3Drl%26sv%3D2019-02-02%26sr%3Dc%26sig%3DYn90Kf9mkwNVecSV7kzfv7Pbc0nfnAprfrkVd59pXpY%253D@mor-staging-dask-demand-predictions-lastcalcs?use_sas=true&create_if_missing=false\"\n",
    "\n",
    "store_prod = partial(get_store_from_url, store_url_prod)\n",
    "store_stag = partial(get_store_from_url, store_url_stag)\n",
    "\n",
    "table = \"predictions\"\n",
    "\n",
    "print(DatasetMetadata.load_from_store(dataset_uuid_stag, store_stag()))\n",
    "#print(DatasetMetadata.load_from_store(dataset_uuid_stag, store_stag()))\n",
    "\n",
    "# read staging\n",
    "ddf = read_dataset_as_ddf(dataset_uuid_stag,\n",
    "                        store_stag, table)\n",
    "\n",
    "\n",
    "\n",
    "# write to prod\n",
    "graph = update_dataset_from_ddf(ddf, store_prod,\n",
    "                         dataset_uuid_prod, table) \n",
    "graph.compute()"
   ]
  }
 ],
 "metadata": {
  "kernelspec": {
   "display_name": "Python 3",
   "language": "python",
   "name": "python3"
  },
  "language_info": {
   "codemirror_mode": {
    "name": "ipython",
    "version": 3
   },
   "file_extension": ".py",
   "mimetype": "text/x-python",
   "name": "python",
   "nbconvert_exporter": "python",
   "pygments_lexer": "ipython3",
   "version": "3.8.3"
  }
 },
 "nbformat": 4,
 "nbformat_minor": 4
}
